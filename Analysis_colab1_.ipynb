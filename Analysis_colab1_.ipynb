{
  "cells": [
    {
      "cell_type": "code",
      "execution_count": 2,
      "id": "17871c8c-d5b7-4881-8fb2-c3f084deec73",
      "metadata": {
        "id": "17871c8c-d5b7-4881-8fb2-c3f084deec73"
      },
      "outputs": [],
      "source": [
        "import pandas as pd\n",
        "import numpy as np\n",
        "import matplotlib.pyplot as plt"
      ]
    },
    {
      "cell_type": "markdown",
      "id": "7108a27f-97e8-4871-ae8d-c4c53a47dfe9",
      "metadata": {
        "id": "7108a27f-97e8-4871-ae8d-c4c53a47dfe9"
      },
      "source": [
        "#### Q1.  Who are the top 5 users in Seattle\n",
        "\n",
        " with the highest number of\n",
        "\n",
        "1.   List item\n",
        "2.   List item\n",
        "\n",
        "followers? List their login in order, comma-separated"
      ]
    },
    {
      "cell_type": "code",
      "execution_count": 3,
      "id": "4259def7-3934-411b-b441-64d7d24bd92c",
      "metadata": {
        "colab": {
          "base_uri": "https://localhost:8080/",
          "height": 293
        },
        "collapsed": true,
        "id": "4259def7-3934-411b-b441-64d7d24bd92c",
        "outputId": "777af6c7-fe6b-4eae-a8e9-55335d984b67"
      },
      "outputs": [
        {
          "output_type": "execute_result",
          "data": {
            "text/plain": [
              "        login              name                company          location  \\\n",
              "0        vczh               NaN                    NaN  Seattle, WA, USA   \n",
              "1    bradfitz  Brad Fitzpatrick              TAILSCALE           Seattle   \n",
              "2  munificent       Bob Nystrom  GOOGLE, ON @DART-LANG       Seattle, WA   \n",
              "3  tenderlove   Aaron Patterson                SHOPIFY           Seattle   \n",
              "4      ahmetb  Ahmet Alp Balkan               LINKEDIN       Seattle, WA   \n",
              "\n",
              "             email  hireable  \\\n",
              "0              NaN     False   \n",
              "1   brad@danga.com     False   \n",
              "2              NaN     False   \n",
              "3              NaN     False   \n",
              "4  github@ahmet.im      True   \n",
              "\n",
              "                                                 bio  public_repos  followers  \\\n",
              "0  Main contributor of @vczh-libraries  .\\r\\n\\r\\n...            12      17512   \n",
              "1  LiveJournal, memcached, OpenID, @golang team (...           141      12108   \n",
              "2  Programming language developer, ex-game develo...            49       9929   \n",
              "3                                         💘💙💜💗💚❤💓💛💚💗           357       9446   \n",
              "4  Working on compute orchestration with Kubernet...           221       8213   \n",
              "\n",
              "   following            created_at  \n",
              "0         11  2011-05-07T08:30:48Z  \n",
              "1         41  2008-03-09T05:08:14Z  \n",
              "2        144  2009-01-13T15:37:46Z  \n",
              "3         27  2008-03-14T20:04:17Z  \n",
              "4         34  2009-11-28T14:59:59Z  "
            ],
            "text/html": [
              "\n",
              "  <div id=\"df-a021bf12-08d1-40b2-8405-8c8669aa42ab\" class=\"colab-df-container\">\n",
              "    <div>\n",
              "<style scoped>\n",
              "    .dataframe tbody tr th:only-of-type {\n",
              "        vertical-align: middle;\n",
              "    }\n",
              "\n",
              "    .dataframe tbody tr th {\n",
              "        vertical-align: top;\n",
              "    }\n",
              "\n",
              "    .dataframe thead th {\n",
              "        text-align: right;\n",
              "    }\n",
              "</style>\n",
              "<table border=\"1\" class=\"dataframe\">\n",
              "  <thead>\n",
              "    <tr style=\"text-align: right;\">\n",
              "      <th></th>\n",
              "      <th>login</th>\n",
              "      <th>name</th>\n",
              "      <th>company</th>\n",
              "      <th>location</th>\n",
              "      <th>email</th>\n",
              "      <th>hireable</th>\n",
              "      <th>bio</th>\n",
              "      <th>public_repos</th>\n",
              "      <th>followers</th>\n",
              "      <th>following</th>\n",
              "      <th>created_at</th>\n",
              "    </tr>\n",
              "  </thead>\n",
              "  <tbody>\n",
              "    <tr>\n",
              "      <th>0</th>\n",
              "      <td>vczh</td>\n",
              "      <td>NaN</td>\n",
              "      <td>NaN</td>\n",
              "      <td>Seattle, WA, USA</td>\n",
              "      <td>NaN</td>\n",
              "      <td>False</td>\n",
              "      <td>Main contributor of @vczh-libraries  .\\r\\n\\r\\n...</td>\n",
              "      <td>12</td>\n",
              "      <td>17512</td>\n",
              "      <td>11</td>\n",
              "      <td>2011-05-07T08:30:48Z</td>\n",
              "    </tr>\n",
              "    <tr>\n",
              "      <th>1</th>\n",
              "      <td>bradfitz</td>\n",
              "      <td>Brad Fitzpatrick</td>\n",
              "      <td>TAILSCALE</td>\n",
              "      <td>Seattle</td>\n",
              "      <td>brad@danga.com</td>\n",
              "      <td>False</td>\n",
              "      <td>LiveJournal, memcached, OpenID, @golang team (...</td>\n",
              "      <td>141</td>\n",
              "      <td>12108</td>\n",
              "      <td>41</td>\n",
              "      <td>2008-03-09T05:08:14Z</td>\n",
              "    </tr>\n",
              "    <tr>\n",
              "      <th>2</th>\n",
              "      <td>munificent</td>\n",
              "      <td>Bob Nystrom</td>\n",
              "      <td>GOOGLE, ON @DART-LANG</td>\n",
              "      <td>Seattle, WA</td>\n",
              "      <td>NaN</td>\n",
              "      <td>False</td>\n",
              "      <td>Programming language developer, ex-game develo...</td>\n",
              "      <td>49</td>\n",
              "      <td>9929</td>\n",
              "      <td>144</td>\n",
              "      <td>2009-01-13T15:37:46Z</td>\n",
              "    </tr>\n",
              "    <tr>\n",
              "      <th>3</th>\n",
              "      <td>tenderlove</td>\n",
              "      <td>Aaron Patterson</td>\n",
              "      <td>SHOPIFY</td>\n",
              "      <td>Seattle</td>\n",
              "      <td>NaN</td>\n",
              "      <td>False</td>\n",
              "      <td>💘💙💜💗💚❤💓💛💚💗</td>\n",
              "      <td>357</td>\n",
              "      <td>9446</td>\n",
              "      <td>27</td>\n",
              "      <td>2008-03-14T20:04:17Z</td>\n",
              "    </tr>\n",
              "    <tr>\n",
              "      <th>4</th>\n",
              "      <td>ahmetb</td>\n",
              "      <td>Ahmet Alp Balkan</td>\n",
              "      <td>LINKEDIN</td>\n",
              "      <td>Seattle, WA</td>\n",
              "      <td>github@ahmet.im</td>\n",
              "      <td>True</td>\n",
              "      <td>Working on compute orchestration with Kubernet...</td>\n",
              "      <td>221</td>\n",
              "      <td>8213</td>\n",
              "      <td>34</td>\n",
              "      <td>2009-11-28T14:59:59Z</td>\n",
              "    </tr>\n",
              "  </tbody>\n",
              "</table>\n",
              "</div>\n",
              "    <div class=\"colab-df-buttons\">\n",
              "\n",
              "  <div class=\"colab-df-container\">\n",
              "    <button class=\"colab-df-convert\" onclick=\"convertToInteractive('df-a021bf12-08d1-40b2-8405-8c8669aa42ab')\"\n",
              "            title=\"Convert this dataframe to an interactive table.\"\n",
              "            style=\"display:none;\">\n",
              "\n",
              "  <svg xmlns=\"http://www.w3.org/2000/svg\" height=\"24px\" viewBox=\"0 -960 960 960\">\n",
              "    <path d=\"M120-120v-720h720v720H120Zm60-500h600v-160H180v160Zm220 220h160v-160H400v160Zm0 220h160v-160H400v160ZM180-400h160v-160H180v160Zm440 0h160v-160H620v160ZM180-180h160v-160H180v160Zm440 0h160v-160H620v160Z\"/>\n",
              "  </svg>\n",
              "    </button>\n",
              "\n",
              "  <style>\n",
              "    .colab-df-container {\n",
              "      display:flex;\n",
              "      gap: 12px;\n",
              "    }\n",
              "\n",
              "    .colab-df-convert {\n",
              "      background-color: #E8F0FE;\n",
              "      border: none;\n",
              "      border-radius: 50%;\n",
              "      cursor: pointer;\n",
              "      display: none;\n",
              "      fill: #1967D2;\n",
              "      height: 32px;\n",
              "      padding: 0 0 0 0;\n",
              "      width: 32px;\n",
              "    }\n",
              "\n",
              "    .colab-df-convert:hover {\n",
              "      background-color: #E2EBFA;\n",
              "      box-shadow: 0px 1px 2px rgba(60, 64, 67, 0.3), 0px 1px 3px 1px rgba(60, 64, 67, 0.15);\n",
              "      fill: #174EA6;\n",
              "    }\n",
              "\n",
              "    .colab-df-buttons div {\n",
              "      margin-bottom: 4px;\n",
              "    }\n",
              "\n",
              "    [theme=dark] .colab-df-convert {\n",
              "      background-color: #3B4455;\n",
              "      fill: #D2E3FC;\n",
              "    }\n",
              "\n",
              "    [theme=dark] .colab-df-convert:hover {\n",
              "      background-color: #434B5C;\n",
              "      box-shadow: 0px 1px 3px 1px rgba(0, 0, 0, 0.15);\n",
              "      filter: drop-shadow(0px 1px 2px rgba(0, 0, 0, 0.3));\n",
              "      fill: #FFFFFF;\n",
              "    }\n",
              "  </style>\n",
              "\n",
              "    <script>\n",
              "      const buttonEl =\n",
              "        document.querySelector('#df-a021bf12-08d1-40b2-8405-8c8669aa42ab button.colab-df-convert');\n",
              "      buttonEl.style.display =\n",
              "        google.colab.kernel.accessAllowed ? 'block' : 'none';\n",
              "\n",
              "      async function convertToInteractive(key) {\n",
              "        const element = document.querySelector('#df-a021bf12-08d1-40b2-8405-8c8669aa42ab');\n",
              "        const dataTable =\n",
              "          await google.colab.kernel.invokeFunction('convertToInteractive',\n",
              "                                                    [key], {});\n",
              "        if (!dataTable) return;\n",
              "\n",
              "        const docLinkHtml = 'Like what you see? Visit the ' +\n",
              "          '<a target=\"_blank\" href=https://colab.research.google.com/notebooks/data_table.ipynb>data table notebook</a>'\n",
              "          + ' to learn more about interactive tables.';\n",
              "        element.innerHTML = '';\n",
              "        dataTable['output_type'] = 'display_data';\n",
              "        await google.colab.output.renderOutput(dataTable, element);\n",
              "        const docLink = document.createElement('div');\n",
              "        docLink.innerHTML = docLinkHtml;\n",
              "        element.appendChild(docLink);\n",
              "      }\n",
              "    </script>\n",
              "  </div>\n",
              "\n",
              "\n",
              "<div id=\"df-b9680849-311a-4251-af63-69348f1e04b1\">\n",
              "  <button class=\"colab-df-quickchart\" onclick=\"quickchart('df-b9680849-311a-4251-af63-69348f1e04b1')\"\n",
              "            title=\"Suggest charts\"\n",
              "            style=\"display:none;\">\n",
              "\n",
              "<svg xmlns=\"http://www.w3.org/2000/svg\" height=\"24px\"viewBox=\"0 0 24 24\"\n",
              "     width=\"24px\">\n",
              "    <g>\n",
              "        <path d=\"M19 3H5c-1.1 0-2 .9-2 2v14c0 1.1.9 2 2 2h14c1.1 0 2-.9 2-2V5c0-1.1-.9-2-2-2zM9 17H7v-7h2v7zm4 0h-2V7h2v10zm4 0h-2v-4h2v4z\"/>\n",
              "    </g>\n",
              "</svg>\n",
              "  </button>\n",
              "\n",
              "<style>\n",
              "  .colab-df-quickchart {\n",
              "      --bg-color: #E8F0FE;\n",
              "      --fill-color: #1967D2;\n",
              "      --hover-bg-color: #E2EBFA;\n",
              "      --hover-fill-color: #174EA6;\n",
              "      --disabled-fill-color: #AAA;\n",
              "      --disabled-bg-color: #DDD;\n",
              "  }\n",
              "\n",
              "  [theme=dark] .colab-df-quickchart {\n",
              "      --bg-color: #3B4455;\n",
              "      --fill-color: #D2E3FC;\n",
              "      --hover-bg-color: #434B5C;\n",
              "      --hover-fill-color: #FFFFFF;\n",
              "      --disabled-bg-color: #3B4455;\n",
              "      --disabled-fill-color: #666;\n",
              "  }\n",
              "\n",
              "  .colab-df-quickchart {\n",
              "    background-color: var(--bg-color);\n",
              "    border: none;\n",
              "    border-radius: 50%;\n",
              "    cursor: pointer;\n",
              "    display: none;\n",
              "    fill: var(--fill-color);\n",
              "    height: 32px;\n",
              "    padding: 0;\n",
              "    width: 32px;\n",
              "  }\n",
              "\n",
              "  .colab-df-quickchart:hover {\n",
              "    background-color: var(--hover-bg-color);\n",
              "    box-shadow: 0 1px 2px rgba(60, 64, 67, 0.3), 0 1px 3px 1px rgba(60, 64, 67, 0.15);\n",
              "    fill: var(--button-hover-fill-color);\n",
              "  }\n",
              "\n",
              "  .colab-df-quickchart-complete:disabled,\n",
              "  .colab-df-quickchart-complete:disabled:hover {\n",
              "    background-color: var(--disabled-bg-color);\n",
              "    fill: var(--disabled-fill-color);\n",
              "    box-shadow: none;\n",
              "  }\n",
              "\n",
              "  .colab-df-spinner {\n",
              "    border: 2px solid var(--fill-color);\n",
              "    border-color: transparent;\n",
              "    border-bottom-color: var(--fill-color);\n",
              "    animation:\n",
              "      spin 1s steps(1) infinite;\n",
              "  }\n",
              "\n",
              "  @keyframes spin {\n",
              "    0% {\n",
              "      border-color: transparent;\n",
              "      border-bottom-color: var(--fill-color);\n",
              "      border-left-color: var(--fill-color);\n",
              "    }\n",
              "    20% {\n",
              "      border-color: transparent;\n",
              "      border-left-color: var(--fill-color);\n",
              "      border-top-color: var(--fill-color);\n",
              "    }\n",
              "    30% {\n",
              "      border-color: transparent;\n",
              "      border-left-color: var(--fill-color);\n",
              "      border-top-color: var(--fill-color);\n",
              "      border-right-color: var(--fill-color);\n",
              "    }\n",
              "    40% {\n",
              "      border-color: transparent;\n",
              "      border-right-color: var(--fill-color);\n",
              "      border-top-color: var(--fill-color);\n",
              "    }\n",
              "    60% {\n",
              "      border-color: transparent;\n",
              "      border-right-color: var(--fill-color);\n",
              "    }\n",
              "    80% {\n",
              "      border-color: transparent;\n",
              "      border-right-color: var(--fill-color);\n",
              "      border-bottom-color: var(--fill-color);\n",
              "    }\n",
              "    90% {\n",
              "      border-color: transparent;\n",
              "      border-bottom-color: var(--fill-color);\n",
              "    }\n",
              "  }\n",
              "</style>\n",
              "\n",
              "  <script>\n",
              "    async function quickchart(key) {\n",
              "      const quickchartButtonEl =\n",
              "        document.querySelector('#' + key + ' button');\n",
              "      quickchartButtonEl.disabled = true;  // To prevent multiple clicks.\n",
              "      quickchartButtonEl.classList.add('colab-df-spinner');\n",
              "      try {\n",
              "        const charts = await google.colab.kernel.invokeFunction(\n",
              "            'suggestCharts', [key], {});\n",
              "      } catch (error) {\n",
              "        console.error('Error during call to suggestCharts:', error);\n",
              "      }\n",
              "      quickchartButtonEl.classList.remove('colab-df-spinner');\n",
              "      quickchartButtonEl.classList.add('colab-df-quickchart-complete');\n",
              "    }\n",
              "    (() => {\n",
              "      let quickchartButtonEl =\n",
              "        document.querySelector('#df-b9680849-311a-4251-af63-69348f1e04b1 button');\n",
              "      quickchartButtonEl.style.display =\n",
              "        google.colab.kernel.accessAllowed ? 'block' : 'none';\n",
              "    })();\n",
              "  </script>\n",
              "</div>\n",
              "\n",
              "    </div>\n",
              "  </div>\n"
            ],
            "application/vnd.google.colaboratory.intrinsic+json": {
              "type": "dataframe",
              "variable_name": "users",
              "summary": "{\n  \"name\": \"users\",\n  \"rows\": 521,\n  \"fields\": [\n    {\n      \"column\": \"login\",\n      \"properties\": {\n        \"dtype\": \"string\",\n        \"num_unique_values\": 521,\n        \"samples\": [\n          \"rschwabco\",\n          \"zz85\",\n          \"awslabs\"\n        ],\n        \"semantic_type\": \"\",\n        \"description\": \"\"\n      }\n    },\n    {\n      \"column\": \"name\",\n      \"properties\": {\n        \"dtype\": \"string\",\n        \"num_unique_values\": 512,\n        \"samples\": [\n          \"Ian Mitchell\",\n          \"Doug Zongker\",\n          \"Chip Turner\"\n        ],\n        \"semantic_type\": \"\",\n        \"description\": \"\"\n      }\n    },\n    {\n      \"column\": \"company\",\n      \"properties\": {\n        \"dtype\": \"category\",\n        \"num_unique_values\": 212,\n        \"samples\": [\n          \"AWS\",\n          \"ZJU X UIUC\",\n          \"MICROSOFT, @ELEMENTARY\"\n        ],\n        \"semantic_type\": \"\",\n        \"description\": \"\"\n      }\n    },\n    {\n      \"column\": \"location\",\n      \"properties\": {\n        \"dtype\": \"category\",\n        \"num_unique_values\": 44,\n        \"samples\": [\n          \"Hangzhou, CN x Seattle, US\",\n          \"Seattle/Vancouver\",\n          \"Seattle, WA \\u2614\\ufe0f\"\n        ],\n        \"semantic_type\": \"\",\n        \"description\": \"\"\n      }\n    },\n    {\n      \"column\": \"email\",\n      \"properties\": {\n        \"dtype\": \"string\",\n        \"num_unique_values\": 278,\n        \"samples\": [\n          \"ryan@bitlackeys.org\",\n          \"ryan@rymc.io\",\n          \"johann@rocholl.net\"\n        ],\n        \"semantic_type\": \"\",\n        \"description\": \"\"\n      }\n    },\n    {\n      \"column\": \"hireable\",\n      \"properties\": {\n        \"dtype\": \"boolean\",\n        \"num_unique_values\": 2,\n        \"samples\": [\n          true,\n          false\n        ],\n        \"semantic_type\": \"\",\n        \"description\": \"\"\n      }\n    },\n    {\n      \"column\": \"bio\",\n      \"properties\": {\n        \"dtype\": \"string\",\n        \"num_unique_values\": 349,\n        \"samples\": [\n          \"Welcome to bootstrap4.cc. We\\u2019re dedicated to giving you the very best of open source frontend masterpieces.\",\n          \"Research Scientist @ FAIR Labs (@facebookresearch)\\r\\nNLP, Retrieval-Augmented Language Models, QA, Data + Eval; PhD in CS from UMD, Berkeley CS Grad;\"\n        ],\n        \"semantic_type\": \"\",\n        \"description\": \"\"\n      }\n    },\n    {\n      \"column\": \"public_repos\",\n      \"properties\": {\n        \"dtype\": \"number\",\n        \"std\": 115,\n        \"min\": 0,\n        \"max\": 1080,\n        \"num_unique_values\": 222,\n        \"samples\": [\n          662,\n          138\n        ],\n        \"semantic_type\": \"\",\n        \"description\": \"\"\n      }\n    },\n    {\n      \"column\": \"followers\",\n      \"properties\": {\n        \"dtype\": \"number\",\n        \"std\": 1413,\n        \"min\": 200,\n        \"max\": 17512,\n        \"num_unique_values\": 361,\n        \"samples\": [\n          512,\n          1884\n        ],\n        \"semantic_type\": \"\",\n        \"description\": \"\"\n      }\n    },\n    {\n      \"column\": \"following\",\n      \"properties\": {\n        \"dtype\": \"number\",\n        \"std\": 196,\n        \"min\": 0,\n        \"max\": 2705,\n        \"num_unique_values\": 149,\n        \"samples\": [\n          49,\n          32\n        ],\n        \"semantic_type\": \"\",\n        \"description\": \"\"\n      }\n    },\n    {\n      \"column\": \"created_at\",\n      \"properties\": {\n        \"dtype\": \"object\",\n        \"num_unique_values\": 521,\n        \"samples\": [\n          \"2010-05-15T10:06:51Z\",\n          \"2010-06-26T04:08:23Z\"\n        ],\n        \"semantic_type\": \"\",\n        \"description\": \"\"\n      }\n    }\n  ]\n}"
            }
          },
          "metadata": {},
          "execution_count": 3
        }
      ],
      "source": [
        "users = pd.read_csv('users.csv')\n",
        "users.head()"
      ]
    },
    {
      "cell_type": "code",
      "execution_count": 4,
      "id": "f37b7348-3978-4355-948f-8b87845756c0",
      "metadata": {
        "id": "f37b7348-3978-4355-948f-8b87845756c0"
      },
      "outputs": [],
      "source": [
        "users['hireable'] = users['hireable'].fillna(False).astype(bool)"
      ]
    },
    {
      "cell_type": "code",
      "execution_count": 5,
      "id": "a14993f9-48d3-4956-9cca-d4349c30f649",
      "metadata": {
        "colab": {
          "base_uri": "https://localhost:8080/"
        },
        "id": "a14993f9-48d3-4956-9cca-d4349c30f649",
        "outputId": "17c2d5e0-f04d-4caa-b470-c44dcf4d2ab6"
      },
      "outputs": [
        {
          "output_type": "stream",
          "name": "stdout",
          "text": [
            "vczh,bradfitz,munificent,tenderlove,ahmetb\n"
          ]
        }
      ],
      "source": [
        "top5 = users.sort_values(by='followers', ascending=False).head()\n",
        "print(','.join(top5['login'].tolist()))"
      ]
    },
    {
      "cell_type": "markdown",
      "id": "6cc86ddb-88c3-453c-bf56-29614358b62e",
      "metadata": {
        "id": "6cc86ddb-88c3-453c-bf56-29614358b62e"
      },
      "source": [
        "#### Q2. Who are the 5 earliest registered GitHub users in Seattle? List their login in ascending order of created_at, comma-separated."
      ]
    },
    {
      "cell_type": "code",
      "execution_count": 6,
      "id": "afe79990-ccd3-4c8d-b184-45de1f19097c",
      "metadata": {
        "id": "afe79990-ccd3-4c8d-b184-45de1f19097c"
      },
      "outputs": [],
      "source": [
        "users['created_at'] = pd.to_datetime(users['created_at'])"
      ]
    },
    {
      "cell_type": "code",
      "execution_count": 7,
      "id": "f9645405-1745-4f06-9ba8-681b5c1e51b0",
      "metadata": {
        "colab": {
          "base_uri": "https://localhost:8080/"
        },
        "id": "f9645405-1745-4f06-9ba8-681b5c1e51b0",
        "outputId": "3dfa2fe5-de8a-48ea-8d27-c7f090b9005d"
      },
      "outputs": [
        {
          "output_type": "stream",
          "name": "stdout",
          "text": [
            "topfunky,nex3,beccasaurus,eric,grantr\n"
          ]
        }
      ],
      "source": [
        "top_earliest = users.sort_values(by='created_at').head()\n",
        "print(','.join(top_earliest['login'].tolist()))"
      ]
    },
    {
      "cell_type": "markdown",
      "id": "1675cbcf-6a8b-4af8-b24a-1372f68efd6b",
      "metadata": {
        "id": "1675cbcf-6a8b-4af8-b24a-1372f68efd6b"
      },
      "source": [
        "#### Q3. What are the 3 most popular license among these users? Ignore missing licenses. List the license_name in order, comma-separated."
      ]
    },
    {
      "cell_type": "code",
      "execution_count": 8,
      "id": "a139a9a8-9ded-4175-b023-fe871850f3a4",
      "metadata": {
        "colab": {
          "base_uri": "https://localhost:8080/",
          "height": 206
        },
        "id": "a139a9a8-9ded-4175-b023-fe871850f3a4",
        "outputId": "0957ac7e-597a-4bc7-b354-931ee96e328d"
      },
      "outputs": [
        {
          "output_type": "execute_result",
          "data": {
            "text/plain": [
              "  login               full_name            created_at  stargazers_count  \\\n",
              "0  vczh  vczh/WebsitePlayground  2019-09-10T08:55:37Z                15   \n",
              "1  vczh          vczh/GacUIBlog  2021-05-26T08:45:25Z               373   \n",
              "2  vczh  vczh/Elden-Ring-CT-TGA  2022-03-13T00:55:08Z                 0   \n",
              "3  vczh       vczh/tabler-icons  2023-02-11T06:42:57Z                 1   \n",
              "4  vczh              vczh/vcpkg  2022-09-16T07:54:38Z                 1   \n",
              "\n",
              "   watchers_count    language  has_projects  has_wiki license_name  \n",
              "0              15  TypeScript          True      True   apache-2.0  \n",
              "1             373         C++          True      True      cc0-1.0  \n",
              "2               0           C          True      True          NaN  \n",
              "3               1        HTML          True     False          mit  \n",
              "4               1         NaN          True      True        other  "
            ],
            "text/html": [
              "\n",
              "  <div id=\"df-ef338c82-1bcd-4f05-bb6e-0d92719430b3\" class=\"colab-df-container\">\n",
              "    <div>\n",
              "<style scoped>\n",
              "    .dataframe tbody tr th:only-of-type {\n",
              "        vertical-align: middle;\n",
              "    }\n",
              "\n",
              "    .dataframe tbody tr th {\n",
              "        vertical-align: top;\n",
              "    }\n",
              "\n",
              "    .dataframe thead th {\n",
              "        text-align: right;\n",
              "    }\n",
              "</style>\n",
              "<table border=\"1\" class=\"dataframe\">\n",
              "  <thead>\n",
              "    <tr style=\"text-align: right;\">\n",
              "      <th></th>\n",
              "      <th>login</th>\n",
              "      <th>full_name</th>\n",
              "      <th>created_at</th>\n",
              "      <th>stargazers_count</th>\n",
              "      <th>watchers_count</th>\n",
              "      <th>language</th>\n",
              "      <th>has_projects</th>\n",
              "      <th>has_wiki</th>\n",
              "      <th>license_name</th>\n",
              "    </tr>\n",
              "  </thead>\n",
              "  <tbody>\n",
              "    <tr>\n",
              "      <th>0</th>\n",
              "      <td>vczh</td>\n",
              "      <td>vczh/WebsitePlayground</td>\n",
              "      <td>2019-09-10T08:55:37Z</td>\n",
              "      <td>15</td>\n",
              "      <td>15</td>\n",
              "      <td>TypeScript</td>\n",
              "      <td>True</td>\n",
              "      <td>True</td>\n",
              "      <td>apache-2.0</td>\n",
              "    </tr>\n",
              "    <tr>\n",
              "      <th>1</th>\n",
              "      <td>vczh</td>\n",
              "      <td>vczh/GacUIBlog</td>\n",
              "      <td>2021-05-26T08:45:25Z</td>\n",
              "      <td>373</td>\n",
              "      <td>373</td>\n",
              "      <td>C++</td>\n",
              "      <td>True</td>\n",
              "      <td>True</td>\n",
              "      <td>cc0-1.0</td>\n",
              "    </tr>\n",
              "    <tr>\n",
              "      <th>2</th>\n",
              "      <td>vczh</td>\n",
              "      <td>vczh/Elden-Ring-CT-TGA</td>\n",
              "      <td>2022-03-13T00:55:08Z</td>\n",
              "      <td>0</td>\n",
              "      <td>0</td>\n",
              "      <td>C</td>\n",
              "      <td>True</td>\n",
              "      <td>True</td>\n",
              "      <td>NaN</td>\n",
              "    </tr>\n",
              "    <tr>\n",
              "      <th>3</th>\n",
              "      <td>vczh</td>\n",
              "      <td>vczh/tabler-icons</td>\n",
              "      <td>2023-02-11T06:42:57Z</td>\n",
              "      <td>1</td>\n",
              "      <td>1</td>\n",
              "      <td>HTML</td>\n",
              "      <td>True</td>\n",
              "      <td>False</td>\n",
              "      <td>mit</td>\n",
              "    </tr>\n",
              "    <tr>\n",
              "      <th>4</th>\n",
              "      <td>vczh</td>\n",
              "      <td>vczh/vcpkg</td>\n",
              "      <td>2022-09-16T07:54:38Z</td>\n",
              "      <td>1</td>\n",
              "      <td>1</td>\n",
              "      <td>NaN</td>\n",
              "      <td>True</td>\n",
              "      <td>True</td>\n",
              "      <td>other</td>\n",
              "    </tr>\n",
              "  </tbody>\n",
              "</table>\n",
              "</div>\n",
              "    <div class=\"colab-df-buttons\">\n",
              "\n",
              "  <div class=\"colab-df-container\">\n",
              "    <button class=\"colab-df-convert\" onclick=\"convertToInteractive('df-ef338c82-1bcd-4f05-bb6e-0d92719430b3')\"\n",
              "            title=\"Convert this dataframe to an interactive table.\"\n",
              "            style=\"display:none;\">\n",
              "\n",
              "  <svg xmlns=\"http://www.w3.org/2000/svg\" height=\"24px\" viewBox=\"0 -960 960 960\">\n",
              "    <path d=\"M120-120v-720h720v720H120Zm60-500h600v-160H180v160Zm220 220h160v-160H400v160Zm0 220h160v-160H400v160ZM180-400h160v-160H180v160Zm440 0h160v-160H620v160ZM180-180h160v-160H180v160Zm440 0h160v-160H620v160Z\"/>\n",
              "  </svg>\n",
              "    </button>\n",
              "\n",
              "  <style>\n",
              "    .colab-df-container {\n",
              "      display:flex;\n",
              "      gap: 12px;\n",
              "    }\n",
              "\n",
              "    .colab-df-convert {\n",
              "      background-color: #E8F0FE;\n",
              "      border: none;\n",
              "      border-radius: 50%;\n",
              "      cursor: pointer;\n",
              "      display: none;\n",
              "      fill: #1967D2;\n",
              "      height: 32px;\n",
              "      padding: 0 0 0 0;\n",
              "      width: 32px;\n",
              "    }\n",
              "\n",
              "    .colab-df-convert:hover {\n",
              "      background-color: #E2EBFA;\n",
              "      box-shadow: 0px 1px 2px rgba(60, 64, 67, 0.3), 0px 1px 3px 1px rgba(60, 64, 67, 0.15);\n",
              "      fill: #174EA6;\n",
              "    }\n",
              "\n",
              "    .colab-df-buttons div {\n",
              "      margin-bottom: 4px;\n",
              "    }\n",
              "\n",
              "    [theme=dark] .colab-df-convert {\n",
              "      background-color: #3B4455;\n",
              "      fill: #D2E3FC;\n",
              "    }\n",
              "\n",
              "    [theme=dark] .colab-df-convert:hover {\n",
              "      background-color: #434B5C;\n",
              "      box-shadow: 0px 1px 3px 1px rgba(0, 0, 0, 0.15);\n",
              "      filter: drop-shadow(0px 1px 2px rgba(0, 0, 0, 0.3));\n",
              "      fill: #FFFFFF;\n",
              "    }\n",
              "  </style>\n",
              "\n",
              "    <script>\n",
              "      const buttonEl =\n",
              "        document.querySelector('#df-ef338c82-1bcd-4f05-bb6e-0d92719430b3 button.colab-df-convert');\n",
              "      buttonEl.style.display =\n",
              "        google.colab.kernel.accessAllowed ? 'block' : 'none';\n",
              "\n",
              "      async function convertToInteractive(key) {\n",
              "        const element = document.querySelector('#df-ef338c82-1bcd-4f05-bb6e-0d92719430b3');\n",
              "        const dataTable =\n",
              "          await google.colab.kernel.invokeFunction('convertToInteractive',\n",
              "                                                    [key], {});\n",
              "        if (!dataTable) return;\n",
              "\n",
              "        const docLinkHtml = 'Like what you see? Visit the ' +\n",
              "          '<a target=\"_blank\" href=https://colab.research.google.com/notebooks/data_table.ipynb>data table notebook</a>'\n",
              "          + ' to learn more about interactive tables.';\n",
              "        element.innerHTML = '';\n",
              "        dataTable['output_type'] = 'display_data';\n",
              "        await google.colab.output.renderOutput(dataTable, element);\n",
              "        const docLink = document.createElement('div');\n",
              "        docLink.innerHTML = docLinkHtml;\n",
              "        element.appendChild(docLink);\n",
              "      }\n",
              "    </script>\n",
              "  </div>\n",
              "\n",
              "\n",
              "<div id=\"df-853459f9-96f5-4367-aca5-451c4f60bf0d\">\n",
              "  <button class=\"colab-df-quickchart\" onclick=\"quickchart('df-853459f9-96f5-4367-aca5-451c4f60bf0d')\"\n",
              "            title=\"Suggest charts\"\n",
              "            style=\"display:none;\">\n",
              "\n",
              "<svg xmlns=\"http://www.w3.org/2000/svg\" height=\"24px\"viewBox=\"0 0 24 24\"\n",
              "     width=\"24px\">\n",
              "    <g>\n",
              "        <path d=\"M19 3H5c-1.1 0-2 .9-2 2v14c0 1.1.9 2 2 2h14c1.1 0 2-.9 2-2V5c0-1.1-.9-2-2-2zM9 17H7v-7h2v7zm4 0h-2V7h2v10zm4 0h-2v-4h2v4z\"/>\n",
              "    </g>\n",
              "</svg>\n",
              "  </button>\n",
              "\n",
              "<style>\n",
              "  .colab-df-quickchart {\n",
              "      --bg-color: #E8F0FE;\n",
              "      --fill-color: #1967D2;\n",
              "      --hover-bg-color: #E2EBFA;\n",
              "      --hover-fill-color: #174EA6;\n",
              "      --disabled-fill-color: #AAA;\n",
              "      --disabled-bg-color: #DDD;\n",
              "  }\n",
              "\n",
              "  [theme=dark] .colab-df-quickchart {\n",
              "      --bg-color: #3B4455;\n",
              "      --fill-color: #D2E3FC;\n",
              "      --hover-bg-color: #434B5C;\n",
              "      --hover-fill-color: #FFFFFF;\n",
              "      --disabled-bg-color: #3B4455;\n",
              "      --disabled-fill-color: #666;\n",
              "  }\n",
              "\n",
              "  .colab-df-quickchart {\n",
              "    background-color: var(--bg-color);\n",
              "    border: none;\n",
              "    border-radius: 50%;\n",
              "    cursor: pointer;\n",
              "    display: none;\n",
              "    fill: var(--fill-color);\n",
              "    height: 32px;\n",
              "    padding: 0;\n",
              "    width: 32px;\n",
              "  }\n",
              "\n",
              "  .colab-df-quickchart:hover {\n",
              "    background-color: var(--hover-bg-color);\n",
              "    box-shadow: 0 1px 2px rgba(60, 64, 67, 0.3), 0 1px 3px 1px rgba(60, 64, 67, 0.15);\n",
              "    fill: var(--button-hover-fill-color);\n",
              "  }\n",
              "\n",
              "  .colab-df-quickchart-complete:disabled,\n",
              "  .colab-df-quickchart-complete:disabled:hover {\n",
              "    background-color: var(--disabled-bg-color);\n",
              "    fill: var(--disabled-fill-color);\n",
              "    box-shadow: none;\n",
              "  }\n",
              "\n",
              "  .colab-df-spinner {\n",
              "    border: 2px solid var(--fill-color);\n",
              "    border-color: transparent;\n",
              "    border-bottom-color: var(--fill-color);\n",
              "    animation:\n",
              "      spin 1s steps(1) infinite;\n",
              "  }\n",
              "\n",
              "  @keyframes spin {\n",
              "    0% {\n",
              "      border-color: transparent;\n",
              "      border-bottom-color: var(--fill-color);\n",
              "      border-left-color: var(--fill-color);\n",
              "    }\n",
              "    20% {\n",
              "      border-color: transparent;\n",
              "      border-left-color: var(--fill-color);\n",
              "      border-top-color: var(--fill-color);\n",
              "    }\n",
              "    30% {\n",
              "      border-color: transparent;\n",
              "      border-left-color: var(--fill-color);\n",
              "      border-top-color: var(--fill-color);\n",
              "      border-right-color: var(--fill-color);\n",
              "    }\n",
              "    40% {\n",
              "      border-color: transparent;\n",
              "      border-right-color: var(--fill-color);\n",
              "      border-top-color: var(--fill-color);\n",
              "    }\n",
              "    60% {\n",
              "      border-color: transparent;\n",
              "      border-right-color: var(--fill-color);\n",
              "    }\n",
              "    80% {\n",
              "      border-color: transparent;\n",
              "      border-right-color: var(--fill-color);\n",
              "      border-bottom-color: var(--fill-color);\n",
              "    }\n",
              "    90% {\n",
              "      border-color: transparent;\n",
              "      border-bottom-color: var(--fill-color);\n",
              "    }\n",
              "  }\n",
              "</style>\n",
              "\n",
              "  <script>\n",
              "    async function quickchart(key) {\n",
              "      const quickchartButtonEl =\n",
              "        document.querySelector('#' + key + ' button');\n",
              "      quickchartButtonEl.disabled = true;  // To prevent multiple clicks.\n",
              "      quickchartButtonEl.classList.add('colab-df-spinner');\n",
              "      try {\n",
              "        const charts = await google.colab.kernel.invokeFunction(\n",
              "            'suggestCharts', [key], {});\n",
              "      } catch (error) {\n",
              "        console.error('Error during call to suggestCharts:', error);\n",
              "      }\n",
              "      quickchartButtonEl.classList.remove('colab-df-spinner');\n",
              "      quickchartButtonEl.classList.add('colab-df-quickchart-complete');\n",
              "    }\n",
              "    (() => {\n",
              "      let quickchartButtonEl =\n",
              "        document.querySelector('#df-853459f9-96f5-4367-aca5-451c4f60bf0d button');\n",
              "      quickchartButtonEl.style.display =\n",
              "        google.colab.kernel.accessAllowed ? 'block' : 'none';\n",
              "    })();\n",
              "  </script>\n",
              "</div>\n",
              "\n",
              "    </div>\n",
              "  </div>\n"
            ],
            "application/vnd.google.colaboratory.intrinsic+json": {
              "type": "dataframe",
              "variable_name": "repos",
              "summary": "{\n  \"name\": \"repos\",\n  \"rows\": 51116,\n  \"fields\": [\n    {\n      \"column\": \"login\",\n      \"properties\": {\n        \"dtype\": \"category\",\n        \"num_unique_values\": 519,\n        \"samples\": [\n          \"fangchangma\",\n          \"zz85\",\n          \"awslabs\"\n        ],\n        \"semantic_type\": \"\",\n        \"description\": \"\"\n      }\n    },\n    {\n      \"column\": \"full_name\",\n      \"properties\": {\n        \"dtype\": \"string\",\n        \"num_unique_values\": 51116,\n        \"samples\": [\n          \"d4l3k/cloudflare-dyndns\",\n          \"yasoob/privly-chrome\",\n          \"schollz/junologue-chorus\"\n        ],\n        \"semantic_type\": \"\",\n        \"description\": \"\"\n      }\n    },\n    {\n      \"column\": \"created_at\",\n      \"properties\": {\n        \"dtype\": \"object\",\n        \"num_unique_values\": 51099,\n        \"samples\": [\n          \"2013-10-16T20:51:57Z\",\n          \"2021-01-26T18:42:57Z\",\n          \"2019-05-15T18:22:40Z\"\n        ],\n        \"semantic_type\": \"\",\n        \"description\": \"\"\n      }\n    },\n    {\n      \"column\": \"stargazers_count\",\n      \"properties\": {\n        \"dtype\": \"number\",\n        \"std\": 542,\n        \"min\": 0,\n        \"max\": 54588,\n        \"num_unique_values\": 902,\n        \"samples\": [\n          2901,\n          720,\n          281\n        ],\n        \"semantic_type\": \"\",\n        \"description\": \"\"\n      }\n    },\n    {\n      \"column\": \"watchers_count\",\n      \"properties\": {\n        \"dtype\": \"number\",\n        \"std\": 542,\n        \"min\": 0,\n        \"max\": 54588,\n        \"num_unique_values\": 902,\n        \"samples\": [\n          2901,\n          720,\n          281\n        ],\n        \"semantic_type\": \"\",\n        \"description\": \"\"\n      }\n    },\n    {\n      \"column\": \"language\",\n      \"properties\": {\n        \"dtype\": \"category\",\n        \"num_unique_values\": 202,\n        \"samples\": [\n          \"Cycript\",\n          \"Protocol Buffer\",\n          \"Dockerfile\"\n        ],\n        \"semantic_type\": \"\",\n        \"description\": \"\"\n      }\n    },\n    {\n      \"column\": \"has_projects\",\n      \"properties\": {\n        \"dtype\": \"boolean\",\n        \"num_unique_values\": 2,\n        \"samples\": [\n          false,\n          true\n        ],\n        \"semantic_type\": \"\",\n        \"description\": \"\"\n      }\n    },\n    {\n      \"column\": \"has_wiki\",\n      \"properties\": {\n        \"dtype\": \"boolean\",\n        \"num_unique_values\": 2,\n        \"samples\": [\n          false,\n          true\n        ],\n        \"semantic_type\": \"\",\n        \"description\": \"\"\n      }\n    },\n    {\n      \"column\": \"license_name\",\n      \"properties\": {\n        \"dtype\": \"category\",\n        \"num_unique_values\": 34,\n        \"samples\": [\n          \"unlicense\",\n          \"isc\"\n        ],\n        \"semantic_type\": \"\",\n        \"description\": \"\"\n      }\n    }\n  ]\n}"
            }
          },
          "metadata": {},
          "execution_count": 8
        }
      ],
      "source": [
        "repos = pd.read_csv('repositories.csv')\n",
        "repos.head()"
      ]
    },
    {
      "cell_type": "code",
      "execution_count": 9,
      "id": "f5b0a4ce-ae41-4066-a59a-58e81f27ad47",
      "metadata": {
        "colab": {
          "base_uri": "https://localhost:8080/",
          "height": 209
        },
        "id": "f5b0a4ce-ae41-4066-a59a-58e81f27ad47",
        "outputId": "9e6e055d-bf3b-4fc9-cdec-35f2a347c805"
      },
      "outputs": [
        {
          "output_type": "execute_result",
          "data": {
            "text/plain": [
              "license_name\n",
              "mit           13754\n",
              "apache-2.0     6473\n",
              "other          5075\n",
              "Name: count, dtype: int64"
            ],
            "text/html": [
              "<div>\n",
              "<style scoped>\n",
              "    .dataframe tbody tr th:only-of-type {\n",
              "        vertical-align: middle;\n",
              "    }\n",
              "\n",
              "    .dataframe tbody tr th {\n",
              "        vertical-align: top;\n",
              "    }\n",
              "\n",
              "    .dataframe thead th {\n",
              "        text-align: right;\n",
              "    }\n",
              "</style>\n",
              "<table border=\"1\" class=\"dataframe\">\n",
              "  <thead>\n",
              "    <tr style=\"text-align: right;\">\n",
              "      <th></th>\n",
              "      <th>count</th>\n",
              "    </tr>\n",
              "    <tr>\n",
              "      <th>license_name</th>\n",
              "      <th></th>\n",
              "    </tr>\n",
              "  </thead>\n",
              "  <tbody>\n",
              "    <tr>\n",
              "      <th>mit</th>\n",
              "      <td>13754</td>\n",
              "    </tr>\n",
              "    <tr>\n",
              "      <th>apache-2.0</th>\n",
              "      <td>6473</td>\n",
              "    </tr>\n",
              "    <tr>\n",
              "      <th>other</th>\n",
              "      <td>5075</td>\n",
              "    </tr>\n",
              "  </tbody>\n",
              "</table>\n",
              "</div><br><label><b>dtype:</b> int64</label>"
            ]
          },
          "metadata": {},
          "execution_count": 9
        }
      ],
      "source": [
        "repos['license_name'].value_counts().head(3)"
      ]
    },
    {
      "cell_type": "markdown",
      "id": "662f1894-2c60-429c-b06d-cbe36afe6f08",
      "metadata": {
        "id": "662f1894-2c60-429c-b06d-cbe36afe6f08"
      },
      "source": [
        "#### Q4. Which company do the majority of these developers work at?"
      ]
    },
    {
      "cell_type": "code",
      "execution_count": 10,
      "id": "93a985b2-4e56-4871-9757-23e6ae5ed0de",
      "metadata": {
        "colab": {
          "base_uri": "https://localhost:8080/",
          "height": 147
        },
        "id": "93a985b2-4e56-4871-9757-23e6ae5ed0de",
        "outputId": "f3c3d590-3bca-4ef5-89e6-0bfd5326d5d5"
      },
      "outputs": [
        {
          "output_type": "execute_result",
          "data": {
            "text/plain": [
              "company\n",
              "MICROSOFT    51\n",
              "Name: count, dtype: int64"
            ],
            "text/html": [
              "<div>\n",
              "<style scoped>\n",
              "    .dataframe tbody tr th:only-of-type {\n",
              "        vertical-align: middle;\n",
              "    }\n",
              "\n",
              "    .dataframe tbody tr th {\n",
              "        vertical-align: top;\n",
              "    }\n",
              "\n",
              "    .dataframe thead th {\n",
              "        text-align: right;\n",
              "    }\n",
              "</style>\n",
              "<table border=\"1\" class=\"dataframe\">\n",
              "  <thead>\n",
              "    <tr style=\"text-align: right;\">\n",
              "      <th></th>\n",
              "      <th>count</th>\n",
              "    </tr>\n",
              "    <tr>\n",
              "      <th>company</th>\n",
              "      <th></th>\n",
              "    </tr>\n",
              "  </thead>\n",
              "  <tbody>\n",
              "    <tr>\n",
              "      <th>MICROSOFT</th>\n",
              "      <td>51</td>\n",
              "    </tr>\n",
              "  </tbody>\n",
              "</table>\n",
              "</div><br><label><b>dtype:</b> int64</label>"
            ]
          },
          "metadata": {},
          "execution_count": 10
        }
      ],
      "source": [
        "users['company'].value_counts().head(1)"
      ]
    },
    {
      "cell_type": "markdown",
      "id": "3e73104c-f44c-4e59-aecc-cb10a34578a1",
      "metadata": {
        "id": "3e73104c-f44c-4e59-aecc-cb10a34578a1"
      },
      "source": [
        "#### Q5. Which programming language is most popular among these users?"
      ]
    },
    {
      "cell_type": "code",
      "execution_count": 11,
      "id": "1abcf548-42aa-43fc-837e-86c6db860617",
      "metadata": {
        "colab": {
          "base_uri": "https://localhost:8080/",
          "height": 147
        },
        "id": "1abcf548-42aa-43fc-837e-86c6db860617",
        "outputId": "d0520ce4-fb57-4833-bb5e-3e4b9df19533"
      },
      "outputs": [
        {
          "output_type": "execute_result",
          "data": {
            "text/plain": [
              "language\n",
              "JavaScript    7739\n",
              "Name: count, dtype: int64"
            ],
            "text/html": [
              "<div>\n",
              "<style scoped>\n",
              "    .dataframe tbody tr th:only-of-type {\n",
              "        vertical-align: middle;\n",
              "    }\n",
              "\n",
              "    .dataframe tbody tr th {\n",
              "        vertical-align: top;\n",
              "    }\n",
              "\n",
              "    .dataframe thead th {\n",
              "        text-align: right;\n",
              "    }\n",
              "</style>\n",
              "<table border=\"1\" class=\"dataframe\">\n",
              "  <thead>\n",
              "    <tr style=\"text-align: right;\">\n",
              "      <th></th>\n",
              "      <th>count</th>\n",
              "    </tr>\n",
              "    <tr>\n",
              "      <th>language</th>\n",
              "      <th></th>\n",
              "    </tr>\n",
              "  </thead>\n",
              "  <tbody>\n",
              "    <tr>\n",
              "      <th>JavaScript</th>\n",
              "      <td>7739</td>\n",
              "    </tr>\n",
              "  </tbody>\n",
              "</table>\n",
              "</div><br><label><b>dtype:</b> int64</label>"
            ]
          },
          "metadata": {},
          "execution_count": 11
        }
      ],
      "source": [
        "repos['language'].value_counts().head(1)"
      ]
    },
    {
      "cell_type": "markdown",
      "id": "bf7abc13-3226-4c35-b42e-400f06cac01d",
      "metadata": {
        "id": "bf7abc13-3226-4c35-b42e-400f06cac01d"
      },
      "source": [
        "#### Q6. Which programming language is the second most popular among users who joined after 2020?"
      ]
    },
    {
      "cell_type": "code",
      "execution_count": 12,
      "id": "d01727ac-d1de-4407-a65b-db7a88223d81",
      "metadata": {
        "colab": {
          "base_uri": "https://localhost:8080/",
          "height": 293
        },
        "id": "d01727ac-d1de-4407-a65b-db7a88223d81",
        "outputId": "4dce160e-c1be-4d30-fb00-3afce2cf3c00"
      },
      "outputs": [
        {
          "output_type": "execute_result",
          "data": {
            "text/plain": [
              "              login               name                company  \\\n",
              "30     KillianLucas            killian                    NaN   \n",
              "150      MariaSolOs  Maria José Solano         SWE @ PALANTIR   \n",
              "225    RandalLinden      Randal Linden  R AND R DIGITAL, LLC.   \n",
              "296       ettaboyle       Amanda Boyle                 GITHUB   \n",
              "306  embeddinglayer           Benjamin              SYNTHIENT   \n",
              "\n",
              "                location                   email  hireable  \\\n",
              "30           Seattle, WA                     NaN     False   \n",
              "150          Seattle, WA  majosolano99@gmail.com     False   \n",
              "225  Seattle, Washington                     NaN     False   \n",
              "296  Seattle, Washington                     NaN     False   \n",
              "306          Seattle, WA                     NaN     False   \n",
              "\n",
              "                                                   bio  public_repos  \\\n",
              "30                                                 NaN            10   \n",
              "150                                                NaN            73   \n",
              "225  \"Old-school\" professional programmer\\r\\n\\r\\nWr...             6   \n",
              "296  Helping people help people.\\r\\n\\r\\nCommunity D...             1   \n",
              "306                        Computer Science, 2026 RIT.             3   \n",
              "\n",
              "     followers  following                created_at  \n",
              "30        2168         29 2020-04-18 19:11:34+00:00  \n",
              "150        589         10 2020-03-22 10:33:30+00:00  \n",
              "225        433          4 2020-01-06 13:43:36+00:00  \n",
              "296        344         16 2020-12-01 23:41:33+00:00  \n",
              "306        333         12 2021-06-05 19:21:55+00:00  "
            ],
            "text/html": [
              "\n",
              "  <div id=\"df-98ab7e10-253e-4859-9d3a-faf33a1cfdca\" class=\"colab-df-container\">\n",
              "    <div>\n",
              "<style scoped>\n",
              "    .dataframe tbody tr th:only-of-type {\n",
              "        vertical-align: middle;\n",
              "    }\n",
              "\n",
              "    .dataframe tbody tr th {\n",
              "        vertical-align: top;\n",
              "    }\n",
              "\n",
              "    .dataframe thead th {\n",
              "        text-align: right;\n",
              "    }\n",
              "</style>\n",
              "<table border=\"1\" class=\"dataframe\">\n",
              "  <thead>\n",
              "    <tr style=\"text-align: right;\">\n",
              "      <th></th>\n",
              "      <th>login</th>\n",
              "      <th>name</th>\n",
              "      <th>company</th>\n",
              "      <th>location</th>\n",
              "      <th>email</th>\n",
              "      <th>hireable</th>\n",
              "      <th>bio</th>\n",
              "      <th>public_repos</th>\n",
              "      <th>followers</th>\n",
              "      <th>following</th>\n",
              "      <th>created_at</th>\n",
              "    </tr>\n",
              "  </thead>\n",
              "  <tbody>\n",
              "    <tr>\n",
              "      <th>30</th>\n",
              "      <td>KillianLucas</td>\n",
              "      <td>killian</td>\n",
              "      <td>NaN</td>\n",
              "      <td>Seattle, WA</td>\n",
              "      <td>NaN</td>\n",
              "      <td>False</td>\n",
              "      <td>NaN</td>\n",
              "      <td>10</td>\n",
              "      <td>2168</td>\n",
              "      <td>29</td>\n",
              "      <td>2020-04-18 19:11:34+00:00</td>\n",
              "    </tr>\n",
              "    <tr>\n",
              "      <th>150</th>\n",
              "      <td>MariaSolOs</td>\n",
              "      <td>Maria José Solano</td>\n",
              "      <td>SWE @ PALANTIR</td>\n",
              "      <td>Seattle, WA</td>\n",
              "      <td>majosolano99@gmail.com</td>\n",
              "      <td>False</td>\n",
              "      <td>NaN</td>\n",
              "      <td>73</td>\n",
              "      <td>589</td>\n",
              "      <td>10</td>\n",
              "      <td>2020-03-22 10:33:30+00:00</td>\n",
              "    </tr>\n",
              "    <tr>\n",
              "      <th>225</th>\n",
              "      <td>RandalLinden</td>\n",
              "      <td>Randal Linden</td>\n",
              "      <td>R AND R DIGITAL, LLC.</td>\n",
              "      <td>Seattle, Washington</td>\n",
              "      <td>NaN</td>\n",
              "      <td>False</td>\n",
              "      <td>\"Old-school\" professional programmer\\r\\n\\r\\nWr...</td>\n",
              "      <td>6</td>\n",
              "      <td>433</td>\n",
              "      <td>4</td>\n",
              "      <td>2020-01-06 13:43:36+00:00</td>\n",
              "    </tr>\n",
              "    <tr>\n",
              "      <th>296</th>\n",
              "      <td>ettaboyle</td>\n",
              "      <td>Amanda Boyle</td>\n",
              "      <td>GITHUB</td>\n",
              "      <td>Seattle, Washington</td>\n",
              "      <td>NaN</td>\n",
              "      <td>False</td>\n",
              "      <td>Helping people help people.\\r\\n\\r\\nCommunity D...</td>\n",
              "      <td>1</td>\n",
              "      <td>344</td>\n",
              "      <td>16</td>\n",
              "      <td>2020-12-01 23:41:33+00:00</td>\n",
              "    </tr>\n",
              "    <tr>\n",
              "      <th>306</th>\n",
              "      <td>embeddinglayer</td>\n",
              "      <td>Benjamin</td>\n",
              "      <td>SYNTHIENT</td>\n",
              "      <td>Seattle, WA</td>\n",
              "      <td>NaN</td>\n",
              "      <td>False</td>\n",
              "      <td>Computer Science, 2026 RIT.</td>\n",
              "      <td>3</td>\n",
              "      <td>333</td>\n",
              "      <td>12</td>\n",
              "      <td>2021-06-05 19:21:55+00:00</td>\n",
              "    </tr>\n",
              "  </tbody>\n",
              "</table>\n",
              "</div>\n",
              "    <div class=\"colab-df-buttons\">\n",
              "\n",
              "  <div class=\"colab-df-container\">\n",
              "    <button class=\"colab-df-convert\" onclick=\"convertToInteractive('df-98ab7e10-253e-4859-9d3a-faf33a1cfdca')\"\n",
              "            title=\"Convert this dataframe to an interactive table.\"\n",
              "            style=\"display:none;\">\n",
              "\n",
              "  <svg xmlns=\"http://www.w3.org/2000/svg\" height=\"24px\" viewBox=\"0 -960 960 960\">\n",
              "    <path d=\"M120-120v-720h720v720H120Zm60-500h600v-160H180v160Zm220 220h160v-160H400v160Zm0 220h160v-160H400v160ZM180-400h160v-160H180v160Zm440 0h160v-160H620v160ZM180-180h160v-160H180v160Zm440 0h160v-160H620v160Z\"/>\n",
              "  </svg>\n",
              "    </button>\n",
              "\n",
              "  <style>\n",
              "    .colab-df-container {\n",
              "      display:flex;\n",
              "      gap: 12px;\n",
              "    }\n",
              "\n",
              "    .colab-df-convert {\n",
              "      background-color: #E8F0FE;\n",
              "      border: none;\n",
              "      border-radius: 50%;\n",
              "      cursor: pointer;\n",
              "      display: none;\n",
              "      fill: #1967D2;\n",
              "      height: 32px;\n",
              "      padding: 0 0 0 0;\n",
              "      width: 32px;\n",
              "    }\n",
              "\n",
              "    .colab-df-convert:hover {\n",
              "      background-color: #E2EBFA;\n",
              "      box-shadow: 0px 1px 2px rgba(60, 64, 67, 0.3), 0px 1px 3px 1px rgba(60, 64, 67, 0.15);\n",
              "      fill: #174EA6;\n",
              "    }\n",
              "\n",
              "    .colab-df-buttons div {\n",
              "      margin-bottom: 4px;\n",
              "    }\n",
              "\n",
              "    [theme=dark] .colab-df-convert {\n",
              "      background-color: #3B4455;\n",
              "      fill: #D2E3FC;\n",
              "    }\n",
              "\n",
              "    [theme=dark] .colab-df-convert:hover {\n",
              "      background-color: #434B5C;\n",
              "      box-shadow: 0px 1px 3px 1px rgba(0, 0, 0, 0.15);\n",
              "      filter: drop-shadow(0px 1px 2px rgba(0, 0, 0, 0.3));\n",
              "      fill: #FFFFFF;\n",
              "    }\n",
              "  </style>\n",
              "\n",
              "    <script>\n",
              "      const buttonEl =\n",
              "        document.querySelector('#df-98ab7e10-253e-4859-9d3a-faf33a1cfdca button.colab-df-convert');\n",
              "      buttonEl.style.display =\n",
              "        google.colab.kernel.accessAllowed ? 'block' : 'none';\n",
              "\n",
              "      async function convertToInteractive(key) {\n",
              "        const element = document.querySelector('#df-98ab7e10-253e-4859-9d3a-faf33a1cfdca');\n",
              "        const dataTable =\n",
              "          await google.colab.kernel.invokeFunction('convertToInteractive',\n",
              "                                                    [key], {});\n",
              "        if (!dataTable) return;\n",
              "\n",
              "        const docLinkHtml = 'Like what you see? Visit the ' +\n",
              "          '<a target=\"_blank\" href=https://colab.research.google.com/notebooks/data_table.ipynb>data table notebook</a>'\n",
              "          + ' to learn more about interactive tables.';\n",
              "        element.innerHTML = '';\n",
              "        dataTable['output_type'] = 'display_data';\n",
              "        await google.colab.output.renderOutput(dataTable, element);\n",
              "        const docLink = document.createElement('div');\n",
              "        docLink.innerHTML = docLinkHtml;\n",
              "        element.appendChild(docLink);\n",
              "      }\n",
              "    </script>\n",
              "  </div>\n",
              "\n",
              "\n",
              "<div id=\"df-a0993dc0-79e7-45ff-8bef-0b73a46036bf\">\n",
              "  <button class=\"colab-df-quickchart\" onclick=\"quickchart('df-a0993dc0-79e7-45ff-8bef-0b73a46036bf')\"\n",
              "            title=\"Suggest charts\"\n",
              "            style=\"display:none;\">\n",
              "\n",
              "<svg xmlns=\"http://www.w3.org/2000/svg\" height=\"24px\"viewBox=\"0 0 24 24\"\n",
              "     width=\"24px\">\n",
              "    <g>\n",
              "        <path d=\"M19 3H5c-1.1 0-2 .9-2 2v14c0 1.1.9 2 2 2h14c1.1 0 2-.9 2-2V5c0-1.1-.9-2-2-2zM9 17H7v-7h2v7zm4 0h-2V7h2v10zm4 0h-2v-4h2v4z\"/>\n",
              "    </g>\n",
              "</svg>\n",
              "  </button>\n",
              "\n",
              "<style>\n",
              "  .colab-df-quickchart {\n",
              "      --bg-color: #E8F0FE;\n",
              "      --fill-color: #1967D2;\n",
              "      --hover-bg-color: #E2EBFA;\n",
              "      --hover-fill-color: #174EA6;\n",
              "      --disabled-fill-color: #AAA;\n",
              "      --disabled-bg-color: #DDD;\n",
              "  }\n",
              "\n",
              "  [theme=dark] .colab-df-quickchart {\n",
              "      --bg-color: #3B4455;\n",
              "      --fill-color: #D2E3FC;\n",
              "      --hover-bg-color: #434B5C;\n",
              "      --hover-fill-color: #FFFFFF;\n",
              "      --disabled-bg-color: #3B4455;\n",
              "      --disabled-fill-color: #666;\n",
              "  }\n",
              "\n",
              "  .colab-df-quickchart {\n",
              "    background-color: var(--bg-color);\n",
              "    border: none;\n",
              "    border-radius: 50%;\n",
              "    cursor: pointer;\n",
              "    display: none;\n",
              "    fill: var(--fill-color);\n",
              "    height: 32px;\n",
              "    padding: 0;\n",
              "    width: 32px;\n",
              "  }\n",
              "\n",
              "  .colab-df-quickchart:hover {\n",
              "    background-color: var(--hover-bg-color);\n",
              "    box-shadow: 0 1px 2px rgba(60, 64, 67, 0.3), 0 1px 3px 1px rgba(60, 64, 67, 0.15);\n",
              "    fill: var(--button-hover-fill-color);\n",
              "  }\n",
              "\n",
              "  .colab-df-quickchart-complete:disabled,\n",
              "  .colab-df-quickchart-complete:disabled:hover {\n",
              "    background-color: var(--disabled-bg-color);\n",
              "    fill: var(--disabled-fill-color);\n",
              "    box-shadow: none;\n",
              "  }\n",
              "\n",
              "  .colab-df-spinner {\n",
              "    border: 2px solid var(--fill-color);\n",
              "    border-color: transparent;\n",
              "    border-bottom-color: var(--fill-color);\n",
              "    animation:\n",
              "      spin 1s steps(1) infinite;\n",
              "  }\n",
              "\n",
              "  @keyframes spin {\n",
              "    0% {\n",
              "      border-color: transparent;\n",
              "      border-bottom-color: var(--fill-color);\n",
              "      border-left-color: var(--fill-color);\n",
              "    }\n",
              "    20% {\n",
              "      border-color: transparent;\n",
              "      border-left-color: var(--fill-color);\n",
              "      border-top-color: var(--fill-color);\n",
              "    }\n",
              "    30% {\n",
              "      border-color: transparent;\n",
              "      border-left-color: var(--fill-color);\n",
              "      border-top-color: var(--fill-color);\n",
              "      border-right-color: var(--fill-color);\n",
              "    }\n",
              "    40% {\n",
              "      border-color: transparent;\n",
              "      border-right-color: var(--fill-color);\n",
              "      border-top-color: var(--fill-color);\n",
              "    }\n",
              "    60% {\n",
              "      border-color: transparent;\n",
              "      border-right-color: var(--fill-color);\n",
              "    }\n",
              "    80% {\n",
              "      border-color: transparent;\n",
              "      border-right-color: var(--fill-color);\n",
              "      border-bottom-color: var(--fill-color);\n",
              "    }\n",
              "    90% {\n",
              "      border-color: transparent;\n",
              "      border-bottom-color: var(--fill-color);\n",
              "    }\n",
              "  }\n",
              "</style>\n",
              "\n",
              "  <script>\n",
              "    async function quickchart(key) {\n",
              "      const quickchartButtonEl =\n",
              "        document.querySelector('#' + key + ' button');\n",
              "      quickchartButtonEl.disabled = true;  // To prevent multiple clicks.\n",
              "      quickchartButtonEl.classList.add('colab-df-spinner');\n",
              "      try {\n",
              "        const charts = await google.colab.kernel.invokeFunction(\n",
              "            'suggestCharts', [key], {});\n",
              "      } catch (error) {\n",
              "        console.error('Error during call to suggestCharts:', error);\n",
              "      }\n",
              "      quickchartButtonEl.classList.remove('colab-df-spinner');\n",
              "      quickchartButtonEl.classList.add('colab-df-quickchart-complete');\n",
              "    }\n",
              "    (() => {\n",
              "      let quickchartButtonEl =\n",
              "        document.querySelector('#df-a0993dc0-79e7-45ff-8bef-0b73a46036bf button');\n",
              "      quickchartButtonEl.style.display =\n",
              "        google.colab.kernel.accessAllowed ? 'block' : 'none';\n",
              "    })();\n",
              "  </script>\n",
              "</div>\n",
              "\n",
              "    </div>\n",
              "  </div>\n"
            ],
            "application/vnd.google.colaboratory.intrinsic+json": {
              "type": "dataframe",
              "variable_name": "users_after_2020",
              "summary": "{\n  \"name\": \"users_after_2020\",\n  \"rows\": 9,\n  \"fields\": [\n    {\n      \"column\": \"login\",\n      \"properties\": {\n        \"dtype\": \"string\",\n        \"num_unique_values\": 9,\n        \"samples\": [\n          \"arsentieva\",\n          \"MariaSolOs\",\n          \"IlIllII\"\n        ],\n        \"semantic_type\": \"\",\n        \"description\": \"\"\n      }\n    },\n    {\n      \"column\": \"name\",\n      \"properties\": {\n        \"dtype\": \"string\",\n        \"num_unique_values\": 8,\n        \"samples\": [\n          \"Maria Jos\\u00e9 Solano\",\n          \"The Computational Democracy Project\",\n          \"killian\"\n        ],\n        \"semantic_type\": \"\",\n        \"description\": \"\"\n      }\n    },\n    {\n      \"column\": \"company\",\n      \"properties\": {\n        \"dtype\": \"category\",\n        \"num_unique_values\": 4,\n        \"samples\": [\n          \"R AND R DIGITAL, LLC.\",\n          \"SYNTHIENT\",\n          \"SWE @ PALANTIR\"\n        ],\n        \"semantic_type\": \"\",\n        \"description\": \"\"\n      }\n    },\n    {\n      \"column\": \"location\",\n      \"properties\": {\n        \"dtype\": \"category\",\n        \"num_unique_values\": 4,\n        \"samples\": [\n          \"Seattle, Washington\",\n          \"Seattle, Washington, United States\",\n          \"Seattle, WA\"\n        ],\n        \"semantic_type\": \"\",\n        \"description\": \"\"\n      }\n    },\n    {\n      \"column\": \"email\",\n      \"properties\": {\n        \"dtype\": \"category\",\n        \"num_unique_values\": 2,\n        \"samples\": [\n          \"hello@compdemocracy.org\",\n          \"majosolano99@gmail.com\"\n        ],\n        \"semantic_type\": \"\",\n        \"description\": \"\"\n      }\n    },\n    {\n      \"column\": \"hireable\",\n      \"properties\": {\n        \"dtype\": \"boolean\",\n        \"num_unique_values\": 1,\n        \"samples\": [\n          false\n        ],\n        \"semantic_type\": \"\",\n        \"description\": \"\"\n      }\n    },\n    {\n      \"column\": \"bio\",\n      \"properties\": {\n        \"dtype\": \"string\",\n        \"num_unique_values\": 7,\n        \"samples\": [\n          \"\\\"Old-school\\\" professional programmer\\r\\n\\r\\nWrote Cyboid, bleem!, bleemcast!, DOOM Super Nintendo, Dragon\\u2019s Lair Amiga\\r\\n\"\n        ],\n        \"semantic_type\": \"\",\n        \"description\": \"\"\n      }\n    },\n    {\n      \"column\": \"public_repos\",\n      \"properties\": {\n        \"dtype\": \"number\",\n        \"std\": 23,\n        \"min\": 1,\n        \"max\": 73,\n        \"num_unique_values\": 9,\n        \"samples\": [\n          28\n        ],\n        \"semantic_type\": \"\",\n        \"description\": \"\"\n      }\n    },\n    {\n      \"column\": \"followers\",\n      \"properties\": {\n        \"dtype\": \"number\",\n        \"std\": 619,\n        \"min\": 202,\n        \"max\": 2168,\n        \"num_unique_values\": 9,\n        \"samples\": [\n          239\n        ],\n        \"semantic_type\": \"\",\n        \"description\": \"\"\n      }\n    },\n    {\n      \"column\": \"following\",\n      \"properties\": {\n        \"dtype\": \"number\",\n        \"std\": 22,\n        \"min\": 0,\n        \"max\": 69,\n        \"num_unique_values\": 8,\n        \"samples\": [\n          10\n        ],\n        \"semantic_type\": \"\",\n        \"description\": \"\"\n      }\n    },\n    {\n      \"column\": \"created_at\",\n      \"properties\": {\n        \"dtype\": \"date\",\n        \"min\": \"2020-01-06 13:43:36+00:00\",\n        \"max\": \"2021-06-05 19:21:55+00:00\",\n        \"num_unique_values\": 9,\n        \"samples\": [\n          \"2020-03-12 21:41:30+00:00\"\n        ],\n        \"semantic_type\": \"\",\n        \"description\": \"\"\n      }\n    }\n  ]\n}"
            }
          },
          "metadata": {},
          "execution_count": 12
        }
      ],
      "source": [
        "users_after_2020 = users[users['created_at'] > '2020-01-01']\n",
        "users_after_2020.head()"
      ]
    },
    {
      "cell_type": "code",
      "execution_count": 13,
      "id": "aee537b6-38c7-4aa5-baae-c398fe385053",
      "metadata": {
        "colab": {
          "base_uri": "https://localhost:8080/",
          "height": 272
        },
        "id": "aee537b6-38c7-4aa5-baae-c398fe385053",
        "outputId": "be20ae5b-7944-42f2-dec1-9057b628a227"
      },
      "outputs": [
        {
          "output_type": "execute_result",
          "data": {
            "text/plain": [
              "language\n",
              "C++           30\n",
              "Python        23\n",
              "JavaScript    19\n",
              "TypeScript    17\n",
              "Lua            9\n",
              "Name: count, dtype: int64"
            ],
            "text/html": [
              "<div>\n",
              "<style scoped>\n",
              "    .dataframe tbody tr th:only-of-type {\n",
              "        vertical-align: middle;\n",
              "    }\n",
              "\n",
              "    .dataframe tbody tr th {\n",
              "        vertical-align: top;\n",
              "    }\n",
              "\n",
              "    .dataframe thead th {\n",
              "        text-align: right;\n",
              "    }\n",
              "</style>\n",
              "<table border=\"1\" class=\"dataframe\">\n",
              "  <thead>\n",
              "    <tr style=\"text-align: right;\">\n",
              "      <th></th>\n",
              "      <th>count</th>\n",
              "    </tr>\n",
              "    <tr>\n",
              "      <th>language</th>\n",
              "      <th></th>\n",
              "    </tr>\n",
              "  </thead>\n",
              "  <tbody>\n",
              "    <tr>\n",
              "      <th>C++</th>\n",
              "      <td>30</td>\n",
              "    </tr>\n",
              "    <tr>\n",
              "      <th>Python</th>\n",
              "      <td>23</td>\n",
              "    </tr>\n",
              "    <tr>\n",
              "      <th>JavaScript</th>\n",
              "      <td>19</td>\n",
              "    </tr>\n",
              "    <tr>\n",
              "      <th>TypeScript</th>\n",
              "      <td>17</td>\n",
              "    </tr>\n",
              "    <tr>\n",
              "      <th>Lua</th>\n",
              "      <td>9</td>\n",
              "    </tr>\n",
              "  </tbody>\n",
              "</table>\n",
              "</div><br><label><b>dtype:</b> int64</label>"
            ]
          },
          "metadata": {},
          "execution_count": 13
        }
      ],
      "source": [
        "repos_2020 = repos[repos['login'].isin(users_after_2020['login'].tolist())]\n",
        "repos_2020['language'].value_counts().head()"
      ]
    },
    {
      "cell_type": "markdown",
      "id": "d0b07a2f-bcae-496b-ab7e-188a2f0aa7be",
      "metadata": {
        "id": "d0b07a2f-bcae-496b-ab7e-188a2f0aa7be"
      },
      "source": [
        "#### Q7. Which language has the highest average number of stars per repository?"
      ]
    },
    {
      "cell_type": "code",
      "execution_count": 14,
      "id": "8c8a119a-e562-4855-8330-23b6dccdfea9",
      "metadata": {
        "colab": {
          "base_uri": "https://localhost:8080/"
        },
        "id": "8c8a119a-e562-4855-8330-23b6dccdfea9",
        "outputId": "5fef74a2-5dbc-40b2-b46a-36f1aa69926b"
      },
      "outputs": [
        {
          "output_type": "stream",
          "name": "stdout",
          "text": [
            "Haml 6109.0\n"
          ]
        }
      ],
      "source": [
        "avg_stars = repos.groupby('language')['stargazers_count'].mean()\n",
        "top_lang = avg_stars.idxmax()\n",
        "top_stars = avg_stars.max()\n",
        "print(top_lang, top_stars)"
      ]
    },
    {
      "cell_type": "markdown",
      "id": "e430846a-1518-409f-8717-cb2f84570460",
      "metadata": {
        "id": "e430846a-1518-409f-8717-cb2f84570460"
      },
      "source": [
        "#### Q8. Let's define leader_strength as followers / (1 + following). Who are the top 5 in terms of leader_strength? List their login in order, comma-separated."
      ]
    },
    {
      "cell_type": "code",
      "execution_count": 15,
      "id": "aa51b046-149f-4ef5-89ff-62586043992c",
      "metadata": {
        "colab": {
          "base_uri": "https://localhost:8080/"
        },
        "id": "aa51b046-149f-4ef5-89ff-62586043992c",
        "outputId": "0d3133b0-acbe-4a90-df16-ea68c1e1d602"
      },
      "outputs": [
        {
          "output_type": "stream",
          "name": "stdout",
          "text": [
            "awslabs,mission-peace,karan,cmuratori,nex3\n"
          ]
        }
      ],
      "source": [
        "users['leader_strength'] = users['followers'] / (1 + users['following'])\n",
        "top5_lead = users.sort_values(by='leader_strength', ascending=False).head()\n",
        "print(','.join(top5_lead['login'].tolist()))"
      ]
    },
    {
      "cell_type": "markdown",
      "id": "8dd87be3-3a61-4fe1-ab5c-1ef836c545d3",
      "metadata": {
        "id": "8dd87be3-3a61-4fe1-ab5c-1ef836c545d3"
      },
      "source": [
        "#### Q9. What is the correlation between the number of followers and the number of public repositories among users in  Seattle?"
      ]
    },
    {
      "cell_type": "code",
      "execution_count": 17,
      "id": "91e8b274-bde5-41ac-91d2-d965334f2d35",
      "metadata": {
        "colab": {
          "base_uri": "https://localhost:8080/"
        },
        "id": "91e8b274-bde5-41ac-91d2-d965334f2d35",
        "outputId": "7d298d97-10ac-416a-eea3-df82d7152756"
      },
      "outputs": [
        {
          "output_type": "execute_result",
          "data": {
            "text/plain": [
              "0.20437444082686318"
            ]
          },
          "metadata": {},
          "execution_count": 17
        }
      ],
      "source": [
        "correlation = users['followers'].corr(users['public_repos'])\n",
        "correlation"
      ]
    },
    {
      "cell_type": "markdown",
      "id": "23dac608-8b88-48d8-aeae-1e11b2cb2b87",
      "metadata": {
        "id": "23dac608-8b88-48d8-aeae-1e11b2cb2b87"
      },
      "source": [
        "#### Q10. Does creating more repos help users get more followers? Using regression, estimate how many additional followers a user gets per additional public repository."
      ]
    },
    {
      "cell_type": "code",
      "execution_count": 18,
      "id": "9eede565-f813-4807-989b-051201f7f411",
      "metadata": {
        "colab": {
          "base_uri": "https://localhost:8080/"
        },
        "id": "9eede565-f813-4807-989b-051201f7f411",
        "outputId": "4227c443-1d2b-4450-ab35-a9b426c04a28"
      },
      "outputs": [
        {
          "output_type": "stream",
          "name": "stdout",
          "text": [
            "2.510\n"
          ]
        }
      ],
      "source": [
        "import csv\n",
        "followers = []\n",
        "public_repos = []\n",
        "with open('users.csv', 'r', encoding='utf-8') as file:\n",
        "    reader = csv.DictReader(file)\n",
        "    for row in reader:\n",
        "        followers_count = int(row['followers'])\n",
        "        public_repos_count = int(row['public_repos'])\n",
        "        followers.append(followers_count)\n",
        "        public_repos.append(public_repos_count)\n",
        "if len(followers) > 1 and len(public_repos) > 1:\n",
        "    slope, intercept = np.polyfit(public_repos, followers, 1)\n",
        "\n",
        "    print(f\"{slope:.3f}\")\n",
        "else:\n",
        "    print(\"Error\")"
      ]
    },
    {
      "cell_type": "markdown",
      "id": "b1739602-5cef-48d6-a3ef-3ecc1d12f405",
      "metadata": {
        "id": "b1739602-5cef-48d6-a3ef-3ecc1d12f405"
      },
      "source": [
        "#### Q11. Do people typically enable projects and wikis together? What is the correlation between a repo having projects enabled and having wiki enabled?"
      ]
    },
    {
      "cell_type": "code",
      "execution_count": 19,
      "id": "e680160d-cfa3-42ef-be27-55a772b77171",
      "metadata": {
        "colab": {
          "base_uri": "https://localhost:8080/"
        },
        "id": "e680160d-cfa3-42ef-be27-55a772b77171",
        "outputId": "5af3a113-285e-44d6-d596-29170c760ee1"
      },
      "outputs": [
        {
          "output_type": "stream",
          "name": "stdout",
          "text": [
            "0.311\n"
          ]
        }
      ],
      "source": [
        "if repos['has_projects'].dtype == 'object':\n",
        "    repos['has_projects'] = repos['has_projects'].map({'true': True, 'false': False})\n",
        "if repos['has_wiki'].dtype == 'object':\n",
        "    repos['has_wiki'] = repos['has_wiki'].map({'true': True, 'false': False})\n",
        "\n",
        "correlation = repos['has_projects'].corr(repos['has_wiki'])\n",
        "\n",
        "print(round(correlation, 3))"
      ]
    },
    {
      "cell_type": "markdown",
      "id": "7d1c5de4-b714-46e2-af6a-ad41e8a42f8f",
      "metadata": {
        "id": "7d1c5de4-b714-46e2-af6a-ad41e8a42f8f"
      },
      "source": [
        "#### Q12. Do hireable users follow more people than those who are not hireable?"
      ]
    },
    {
      "cell_type": "code",
      "execution_count": 20,
      "id": "cd51bed6-bba7-4407-94a9-ccc5e3968b4d",
      "metadata": {
        "colab": {
          "base_uri": "https://localhost:8080/"
        },
        "id": "cd51bed6-bba7-4407-94a9-ccc5e3968b4d",
        "outputId": "e6a1dea8-eb8f-43f4-cb32-ac0fa2eb4cf2"
      },
      "outputs": [
        {
          "output_type": "execute_result",
          "data": {
            "text/plain": [
              "13.225712955910979"
            ]
          },
          "metadata": {},
          "execution_count": 20
        }
      ],
      "source": [
        "hireable_avg_following = users[users['hireable'] == True]['following'].mean()\n",
        "non_hireable_avg_following = users[users['hireable'] == False]['following'].mean()\n",
        "difference = hireable_avg_following - non_hireable_avg_following\n",
        "difference"
      ]
    },
    {
      "cell_type": "markdown",
      "id": "1f30dbcf-90f2-4531-b37c-0386828e1f9f",
      "metadata": {
        "id": "1f30dbcf-90f2-4531-b37c-0386828e1f9f"
      },
      "source": [
        "#### Q13. Some developers write long bios. Does that help them get more followers? What's the correlation of the length of their bio (in Unicode characters) with followers? (Ignore people without bios)"
      ]
    },
    {
      "cell_type": "code",
      "execution_count": 21,
      "id": "a324c8b4-9faf-4f4d-9c3d-0813e6bdbfb8",
      "metadata": {
        "colab": {
          "base_uri": "https://localhost:8080/"
        },
        "id": "a324c8b4-9faf-4f4d-9c3d-0813e6bdbfb8",
        "outputId": "1046ac7d-d76e-45cf-f4aa-a4a45b4f5ec0"
      },
      "outputs": [
        {
          "output_type": "stream",
          "name": "stdout",
          "text": [
            "1.0108503240315283\n"
          ]
        }
      ],
      "source": [
        "import pandas as pd\n",
        "from sklearn.linear_model import LinearRegression\n",
        "# Load the CSV file into a DataFrame\n",
        "users = pd.read_csv('users.csv')\n",
        "# Filter users with non-empty 'bio' and create a new column 'bio_len' for the length of the bio\n",
        "users_with_bio = users[(users['bio'].notna()) & (users['bio'] != '')].copy()\n",
        "users_with_bio.loc[:, 'bio_len'] = users_with_bio['bio'].str.len()\n",
        "# Prepare the data for linear regression\n",
        "X = users_with_bio['bio_len'].values.reshape(-1, 1)\n",
        "y = users_with_bio['followers']\n",
        "# Perform linear regression\n",
        "lr2 = LinearRegression()\n",
        "lr2.fit(X, y)\n",
        "\n",
        "# Print the coefficient\n",
        "print(lr2.coef_[0])\n"
      ]
    },
    {
      "cell_type": "markdown",
      "id": "96cb22e4-4046-40cf-9be5-06f096b0f0c3",
      "metadata": {
        "id": "96cb22e4-4046-40cf-9be5-06f096b0f0c3"
      },
      "source": [
        "#### Q14. Who created the most repositories on weekends (UTC)? List the top 5 users' login in order, comma-separated"
      ]
    },
    {
      "cell_type": "code",
      "execution_count": 22,
      "id": "ab49dafe-2981-4fe1-b603-0bee0e61e04f",
      "metadata": {
        "colab": {
          "base_uri": "https://localhost:8080/"
        },
        "id": "ab49dafe-2981-4fe1-b603-0bee0e61e04f",
        "outputId": "b5848c9d-8696-4a3d-b198-699ef8c607ff"
      },
      "outputs": [
        {
          "output_type": "stream",
          "name": "stdout",
          "text": [
            "nolanlawson,homebysix,ingydotnet,anvaka,ImgBotApp\n"
          ]
        }
      ],
      "source": [
        "import csv\n",
        "from collections import Counter\n",
        "from datetime import datetime\n",
        "\n",
        "weekend_repo_counts = Counter()\n",
        "\n",
        "with open('repositories.csv', 'r', encoding='utf-8') as file:\n",
        "    reader = csv.DictReader(file)\n",
        "\n",
        "    for row in reader:\n",
        "        created_at = row.get('created_at', '')\n",
        "        if created_at:\n",
        "            created_date = datetime.fromisoformat(created_at[:-1])\n",
        "\n",
        "            if created_date.weekday() in [5, 6]:\n",
        "                user_login = row['login']\n",
        "                weekend_repo_counts[user_login] += 1\n",
        "\n",
        "top_users = weekend_repo_counts.most_common(5)\n",
        "\n",
        "top_logins = [user[0] for user in top_users]\n",
        "\n",
        "print(','.join(top_logins))"
      ]
    },
    {
      "cell_type": "markdown",
      "id": "6d9da60a-2ff0-4421-808e-ab9a74bf02fb",
      "metadata": {
        "id": "6d9da60a-2ff0-4421-808e-ab9a74bf02fb"
      },
      "source": [
        "#### Q15. Do people who are hireable share their email addresses more often?"
      ]
    },
    {
      "cell_type": "code",
      "execution_count": 23,
      "id": "b8381831-d1ed-4855-afc2-97ad1c06a1af",
      "metadata": {
        "colab": {
          "base_uri": "https://localhost:8080/"
        },
        "id": "b8381831-d1ed-4855-afc2-97ad1c06a1af",
        "outputId": "77fb2545-719c-4b40-984e-e33a5ac578e0"
      },
      "outputs": [
        {
          "output_type": "execute_result",
          "data": {
            "text/plain": [
              "0.08096386561733093"
            ]
          },
          "metadata": {},
          "execution_count": 23
        }
      ],
      "source": [
        "fraction_hierable = users[users['hireable'] == True]['email'].notna().mean()\n",
        "fraction_non_hierable = users[users['hireable'] == False]['email'].notna().mean()\n",
        "diff = fraction_hierable - fraction_non_hierable\n",
        "diff"
      ]
    },
    {
      "cell_type": "markdown",
      "id": "806a227e-1285-4c5f-bb05-867a3fd5101a",
      "metadata": {
        "id": "806a227e-1285-4c5f-bb05-867a3fd5101a"
      },
      "source": [
        "#### Q16. Let's assume that the last word in a user's name is their surname (ignore missing names, trim and split by whitespace.) What's the most common surname? (If there's a tie, list them all, comma-separated, alphabetically)"
      ]
    },
    {
      "cell_type": "code",
      "execution_count": 24,
      "id": "01a24dfb-05cc-4528-b118-558b2307639c",
      "metadata": {
        "colab": {
          "base_uri": "https://localhost:8080/"
        },
        "id": "01a24dfb-05cc-4528-b118-558b2307639c",
        "outputId": "53eb479f-71dc-456d-f9f8-13b110399ed5"
      },
      "outputs": [
        {
          "output_type": "stream",
          "name": "stdout",
          "text": [
            "Wang\n"
          ]
        }
      ],
      "source": [
        "new_users = users[users['name'].notna()].copy()\n",
        "new_users['surname'] = new_users['name'].str.split().str[-1].str.strip()\n",
        "surname_counts = new_users['surname'].value_counts()\n",
        "max_count = surname_counts.max()\n",
        "common_surnames = surname_counts[surname_counts == max_count].index.tolist()\n",
        "common_surnames.sort()\n",
        "print(','.join(common_surnames))"
      ]
    },
    {
      "cell_type": "code",
      "execution_count": 25,
      "id": "2cc25d8c-a405-46d2-ba14-78bf49fabbc6",
      "metadata": {
        "id": "2cc25d8c-a405-46d2-ba14-78bf49fabbc6"
      },
      "outputs": [],
      "source": [
        "# users = users.fillna(\"\").astype(str)\n",
        "# repos = repos.fillna(\"\").astype(str)\n",
        "\n",
        "# repos['has_wiki'] = repos['has_wiki'].astype(str).replace({'True': 'true', 'False': 'false'})\n",
        "# repos['has_projects'] = repos['has_projects'].astype(str).replace({'True': 'true', 'False': 'false'})\n",
        "\n",
        "# # users.to_csv('users1.csv', index=False)\n",
        "# repos.to_csv('repos1.csv', index=False)"
      ]
    }
  ],
  "metadata": {
    "kernelspec": {
      "display_name": "Python 3",
      "language": "python",
      "name": "python3"
    },
    "language_info": {
      "codemirror_mode": {
        "name": "ipython",
        "version": 3
      },
      "file_extension": ".py",
      "mimetype": "text/x-python",
      "name": "python",
      "nbconvert_exporter": "python",
      "pygments_lexer": "ipython3",
      "version": "3.11.5"
    },
    "colab": {
      "provenance": []
    }
  },
  "nbformat": 4,
  "nbformat_minor": 5
}